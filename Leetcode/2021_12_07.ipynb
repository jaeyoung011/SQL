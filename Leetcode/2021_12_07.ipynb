{
 "cells": [
  {
   "cell_type": "code",
   "execution_count": 1,
   "id": "bf9399cf",
   "metadata": {},
   "outputs": [
    {
     "ename": "SyntaxError",
     "evalue": "invalid syntax (<ipython-input-1-9c00f2f67ab2>, line 3)",
     "output_type": "error",
     "traceback": [
      "\u001b[0;36m  File \u001b[0;32m\"<ipython-input-1-9c00f2f67ab2>\"\u001b[0;36m, line \u001b[0;32m3\u001b[0m\n\u001b[0;31m    select customer_number from Orders\u001b[0m\n\u001b[0m                         ^\u001b[0m\n\u001b[0;31mSyntaxError\u001b[0m\u001b[0;31m:\u001b[0m invalid syntax\n"
     ]
    }
   ],
   "source": [
    "# 586. Customer Placing the Largest Number of Orders\n",
    "\n",
    "select customer_number from Orders\n",
    "group by customer_number\n",
    "order by count(*) desc\n",
    "limit 1 "
   ]
  },
  {
   "cell_type": "code",
   "execution_count": null,
   "id": "78b1b12a",
   "metadata": {},
   "outputs": [],
   "source": [
    "# 607. Sales Person\n",
    "\n",
    "select S.name from SalesPerson S\n",
    "where S.sales_id  not in (select O.sales_id from Orders O\n",
    "                         join Company C on C.com_id = O.com_id\n",
    "                         where C.name = 'Red'\n",
    "                        )"
   ]
  },
  {
   "cell_type": "code",
   "execution_count": null,
   "id": "0fa67782",
   "metadata": {},
   "outputs": [],
   "source": [
    "#1068. Product Sales Analysis I\n",
    "\n",
    "select P.product_name, S.year, S.price from Sales S\n",
    " join Product P on S.product_id = P.product_id"
   ]
  },
  {
   "cell_type": "code",
   "execution_count": null,
   "id": "6c9e79ac",
   "metadata": {},
   "outputs": [],
   "source": [
    "# 1075. Project Employees I\n",
    "\n",
    "select P.project_id, round(avg(E.experience_years),2) as average_years from Project P\n",
    "join Employee E on P.employee_id = E.employee_id\n",
    "group by P.project_id"
   ]
  },
  {
   "cell_type": "code",
   "execution_count": null,
   "id": "69563285",
   "metadata": {},
   "outputs": [],
   "source": [
    "# 1076. Project Employees II\n",
    "\n",
    "#Write an SQL query that reports all the projects that have the most employees.\n",
    "\n",
    "#Return the result table in any order.\n",
    "\n",
    "#The query result format is in the following example.\n",
    "\n",
    "SELECT \n",
    "    project_id\n",
    "FROM \n",
    "    Project\n",
    "GROUP BY \n",
    "    project_id\n",
    "HAVING \n",
    "    COUNT(*) = (SELECT COUNT(*) c\n",
    "        FROM Project\n",
    "        GROUP BY project_id\n",
    "        ORDER BY c DESC\n",
    "        LIMIT 1);"
   ]
  }
 ],
 "metadata": {
  "kernelspec": {
   "display_name": "Python 3",
   "language": "python",
   "name": "python3"
  },
  "language_info": {
   "codemirror_mode": {
    "name": "ipython",
    "version": 3
   },
   "file_extension": ".py",
   "mimetype": "text/x-python",
   "name": "python",
   "nbconvert_exporter": "python",
   "pygments_lexer": "ipython3",
   "version": "3.7.10"
  }
 },
 "nbformat": 4,
 "nbformat_minor": 5
}
